{
 "cells": [
  {
   "cell_type": "code",
   "execution_count": 13,
   "metadata": {},
   "outputs": [],
   "source": [
    "import numpy as np\n",
    "from scipy import spatial\n",
    "import pandas as pd"
   ]
  },
  {
   "cell_type": "code",
   "execution_count": 9,
   "metadata": {},
   "outputs": [],
   "source": [
    "df1 = pd.read_csv('AllIndiaPostalCodes.csv')"
   ]
  },
  {
   "cell_type": "code",
   "execution_count": 10,
   "metadata": {},
   "outputs": [
    {
     "data": {
      "text/html": [
       "<div>\n",
       "<style scoped>\n",
       "    .dataframe tbody tr th:only-of-type {\n",
       "        vertical-align: middle;\n",
       "    }\n",
       "\n",
       "    .dataframe tbody tr th {\n",
       "        vertical-align: top;\n",
       "    }\n",
       "\n",
       "    .dataframe thead th {\n",
       "        text-align: right;\n",
       "    }\n",
       "</style>\n",
       "<table border=\"1\" class=\"dataframe\">\n",
       "  <thead>\n",
       "    <tr style=\"text-align: right;\">\n",
       "      <th></th>\n",
       "      <th>countrycode</th>\n",
       "      <th>postalcode</th>\n",
       "      <th>placename</th>\n",
       "      <th>adminname1</th>\n",
       "      <th>admincode1</th>\n",
       "      <th>adminname2</th>\n",
       "      <th>admincode2</th>\n",
       "      <th>adminname3</th>\n",
       "      <th>admincode3</th>\n",
       "      <th>latitude</th>\n",
       "      <th>longitude</th>\n",
       "      <th>accuracy</th>\n",
       "    </tr>\n",
       "  </thead>\n",
       "  <tbody>\n",
       "    <tr>\n",
       "      <th>0</th>\n",
       "      <td>IN</td>\n",
       "      <td>744301</td>\n",
       "      <td>Sawai</td>\n",
       "      <td>Andaman &amp; Nicobar Islands</td>\n",
       "      <td>1</td>\n",
       "      <td>Nicobar</td>\n",
       "      <td>638.0</td>\n",
       "      <td>Carnicobar</td>\n",
       "      <td>NaN</td>\n",
       "      <td>9.2000</td>\n",
       "      <td>92.7167</td>\n",
       "      <td>4</td>\n",
       "    </tr>\n",
       "    <tr>\n",
       "      <th>1</th>\n",
       "      <td>IN</td>\n",
       "      <td>744301</td>\n",
       "      <td>Mus</td>\n",
       "      <td>Andaman &amp; Nicobar Islands</td>\n",
       "      <td>1</td>\n",
       "      <td>Nicobar</td>\n",
       "      <td>638.0</td>\n",
       "      <td>Carnicobar</td>\n",
       "      <td>NaN</td>\n",
       "      <td>9.2333</td>\n",
       "      <td>92.7833</td>\n",
       "      <td>4</td>\n",
       "    </tr>\n",
       "    <tr>\n",
       "      <th>2</th>\n",
       "      <td>IN</td>\n",
       "      <td>744301</td>\n",
       "      <td>Kakana</td>\n",
       "      <td>Andaman &amp; Nicobar Islands</td>\n",
       "      <td>1</td>\n",
       "      <td>Nicobar</td>\n",
       "      <td>638.0</td>\n",
       "      <td>Carnicobar</td>\n",
       "      <td>NaN</td>\n",
       "      <td>9.1167</td>\n",
       "      <td>92.8000</td>\n",
       "      <td>4</td>\n",
       "    </tr>\n",
       "    <tr>\n",
       "      <th>3</th>\n",
       "      <td>IN</td>\n",
       "      <td>744301</td>\n",
       "      <td>Carnicobar</td>\n",
       "      <td>Andaman &amp; Nicobar Islands</td>\n",
       "      <td>1</td>\n",
       "      <td>Nicobar</td>\n",
       "      <td>638.0</td>\n",
       "      <td>Carnicobar</td>\n",
       "      <td>NaN</td>\n",
       "      <td>9.1833</td>\n",
       "      <td>92.7667</td>\n",
       "      <td>3</td>\n",
       "    </tr>\n",
       "    <tr>\n",
       "      <th>4</th>\n",
       "      <td>IN</td>\n",
       "      <td>744301</td>\n",
       "      <td>Lapathy</td>\n",
       "      <td>Andaman &amp; Nicobar Islands</td>\n",
       "      <td>1</td>\n",
       "      <td>Nicobar</td>\n",
       "      <td>638.0</td>\n",
       "      <td>Carnicobar</td>\n",
       "      <td>NaN</td>\n",
       "      <td>9.1833</td>\n",
       "      <td>92.7667</td>\n",
       "      <td>3</td>\n",
       "    </tr>\n",
       "  </tbody>\n",
       "</table>\n",
       "</div>"
      ],
      "text/plain": [
       "  countrycode  postalcode   placename                 adminname1  admincode1   \\\n",
       "0          IN      744301       Sawai  Andaman & Nicobar Islands            1   \n",
       "1          IN      744301         Mus  Andaman & Nicobar Islands            1   \n",
       "2          IN      744301      Kakana  Andaman & Nicobar Islands            1   \n",
       "3          IN      744301  Carnicobar  Andaman & Nicobar Islands            1   \n",
       "4          IN      744301     Lapathy  Andaman & Nicobar Islands            1   \n",
       "\n",
       "  adminname2  admincode2  adminname3  admincode3  latitude  longitude   \\\n",
       "0    Nicobar       638.0  Carnicobar         NaN    9.2000     92.7167   \n",
       "1    Nicobar       638.0  Carnicobar         NaN    9.2333     92.7833   \n",
       "2    Nicobar       638.0  Carnicobar         NaN    9.1167     92.8000   \n",
       "3    Nicobar       638.0  Carnicobar         NaN    9.1833     92.7667   \n",
       "4    Nicobar       638.0  Carnicobar         NaN    9.1833     92.7667   \n",
       "\n",
       "   accuracy  \n",
       "0         4  \n",
       "1         4  \n",
       "2         4  \n",
       "3         3  \n",
       "4         3  "
      ]
     },
     "execution_count": 10,
     "metadata": {},
     "output_type": "execute_result"
    }
   ],
   "source": [
    "df1.head()"
   ]
  },
  {
   "cell_type": "code",
   "execution_count": 11,
   "metadata": {},
   "outputs": [],
   "source": [
    "data1 = df1[['postalcode','placename','latitude','longitude ']]"
   ]
  },
  {
   "cell_type": "code",
   "execution_count": 12,
   "metadata": {},
   "outputs": [
    {
     "data": {
      "text/plain": [
       "154757"
      ]
     },
     "execution_count": 12,
     "metadata": {},
     "output_type": "execute_result"
    }
   ],
   "source": [
    "len(data1)"
   ]
  },
  {
   "cell_type": "code",
   "execution_count": 14,
   "metadata": {},
   "outputs": [],
   "source": [
    "latlongs = data1.iloc[:,2:]\n",
    "data =  np.array(latlongs)"
   ]
  },
  {
   "cell_type": "code",
   "execution_count": 15,
   "metadata": {},
   "outputs": [],
   "source": [
    "tree = spatial.KDTree(data)"
   ]
  },
  {
   "cell_type": "code",
   "execution_count": 16,
   "metadata": {},
   "outputs": [
    {
     "data": {
      "text/plain": [
       "(0.03936363932615813, 43426)"
      ]
     },
     "execution_count": 16,
     "metadata": {},
     "output_type": "execute_result"
    }
   ],
   "source": [
    "latlongs = np.array([18.480326,73.858055])\n",
    "result = tree.query(latlongs)\n",
    "result"
   ]
  },
  {
   "cell_type": "code",
   "execution_count": 36,
   "metadata": {},
   "outputs": [
    {
     "data": {
      "text/plain": [
       "411001"
      ]
     },
     "execution_count": 36,
     "metadata": {},
     "output_type": "execute_result"
    }
   ],
   "source": [
    "int(data1.iloc[[result[1]]]['postalcode'])"
   ]
  },
  {
   "cell_type": "code",
   "execution_count": null,
   "metadata": {},
   "outputs": [],
   "source": []
  }
 ],
 "metadata": {
  "kernelspec": {
   "display_name": "Python 3",
   "language": "python",
   "name": "python3"
  },
  "language_info": {
   "codemirror_mode": {
    "name": "ipython",
    "version": 3
   },
   "file_extension": ".py",
   "mimetype": "text/x-python",
   "name": "python",
   "nbconvert_exporter": "python",
   "pygments_lexer": "ipython3",
   "version": "3.7.1"
  }
 },
 "nbformat": 4,
 "nbformat_minor": 2
}
