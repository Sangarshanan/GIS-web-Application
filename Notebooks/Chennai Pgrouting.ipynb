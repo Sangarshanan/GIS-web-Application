{
 "cells": [
  {
   "cell_type": "code",
   "execution_count": 1,
   "metadata": {},
   "outputs": [
    {
     "name": "stderr",
     "output_type": "stream",
     "text": [
      "/anaconda3/lib/python3.7/site-packages/psycopg2/__init__.py:144: UserWarning: The psycopg2 wheel package will be renamed from release 2.8; in order to keep installing from binary please use \"pip install psycopg2-binary\" instead. For details see: <http://initd.org/psycopg/docs/install.html#binary-install-from-pypi>.\n",
      "  \"\"\")\n"
     ]
    }
   ],
   "source": [
    "import psycopg2\n",
    "hostname = 'localhost'\n",
    "username = 'postgres'\n",
    "password = 'pass'\n",
    "database = 'pgroute'"
   ]
  },
  {
   "cell_type": "code",
   "execution_count": 2,
   "metadata": {},
   "outputs": [],
   "source": [
    "myConnection = psycopg2.connect(host=hostname, user=username, password=password, dbname=database )"
   ]
  },
  {
   "cell_type": "code",
   "execution_count": 3,
   "metadata": {},
   "outputs": [],
   "source": [
    "# Simple routine to run a query on a database and print the results:\n",
    "def doQuery( conn, query ) :\n",
    "    cur = conn.cursor()\n",
    "    cur.execute(query)\n",
    "    if cur.rowcount>0:\n",
    "        return cur.fetchall()\n",
    "    cur.close()\n",
    "\n",
    "    \n",
    "def doQueryv2( conn, query ) :\n",
    "    cur = conn.cursor()\n",
    "    cur.execute(query)\n",
    "    cur.close()"
   ]
  },
  {
   "cell_type": "code",
   "execution_count": 4,
   "metadata": {},
   "outputs": [],
   "source": [
    "long_s, lat_s = (80.2049,13.1090) ##VILLIVAKAM\n",
    "long_t, lat_t = (80.1275, 12.9229) ##TAMBARAM"
   ]
  },
  {
   "cell_type": "code",
   "execution_count": 5,
   "metadata": {},
   "outputs": [],
   "source": [
    "s_geom = 'POINT({} {})'.format(long_s, lat_s)\n",
    "t_geom = 'POINT({} {})'.format(long_t, lat_t)"
   ]
  },
  {
   "cell_type": "code",
   "execution_count": 6,
   "metadata": {},
   "outputs": [],
   "source": [
    "s_query = \"SELECT source FROM ways WHERE source_osm in (SELECT osm_id FROM ways_vertices_pgr ORDER BY the_geom <-> ST_GeometryFromText('{}',4326) LIMIT 1) LIMIT 1\".format(s_geom)\n",
    "source = doQuery( myConnection, s_query )\n",
    "t_query =  \"SELECT target FROM ways WHERE target_osm in (SELECT osm_id FROM ways_vertices_pgr ORDER BY the_geom <-> ST_GeometryFromText('{}',4326) LIMIT 1) LIMIT 1 \".format(t_geom)\n",
    "target = doQuery( myConnection, t_query )"
   ]
  },
  {
   "cell_type": "code",
   "execution_count": 7,
   "metadata": {},
   "outputs": [
    {
     "name": "stdout",
     "output_type": "stream",
     "text": [
      "[(23874,)] [(34997,)]\n"
     ]
    }
   ],
   "source": [
    "print(source, target)"
   ]
  },
  {
   "cell_type": "code",
   "execution_count": 8,
   "metadata": {},
   "outputs": [],
   "source": [
    "length_query = \"SELECT osm_id,lon,lat FROM ways_vertices_pgr ORDER BY the_geom <-> ST_GeometryFromText('{}',4326) ASC\".format(s_geom)"
   ]
  },
  {
   "cell_type": "code",
   "execution_count": 9,
   "metadata": {},
   "outputs": [],
   "source": [
    "dist_query = \"SELECT * INTO DD FROM pgr_dijkstra('SELECT gid AS id, source, target, length AS cost FROM ways',{}, {},directed := false)\".format(source[0][0], target[0][0])\n",
    "doQueryv2( myConnection, dist_query )"
   ]
  },
  {
   "cell_type": "code",
   "execution_count": 10,
   "metadata": {},
   "outputs": [
    {
     "data": {
      "text/plain": [
       "[(26409.3479128543,)]"
      ]
     },
     "execution_count": 10,
     "metadata": {},
     "output_type": "execute_result"
    }
   ],
   "source": [
    "length_query = \"SELECT SUM(length_m) FROM ways WHERE gid IN (SELECT edge FROM DD)\"\n",
    "doQuery( myConnection, length_query) # GETTING TOTAL DISTANCE"
   ]
  },
  {
   "cell_type": "code",
   "execution_count": 11,
   "metadata": {},
   "outputs": [],
   "source": [
    "pt_query = \"SELECT node FROM DD;\"\n",
    "dd = doQuery( myConnection, pt_query)"
   ]
  },
  {
   "cell_type": "code",
   "execution_count": 12,
   "metadata": {},
   "outputs": [
    {
     "data": {
      "text/plain": [
       "[(23874,),\n",
       " (16783,),\n",
       " (54298,),\n",
       " (29189,),\n",
       " (22196,),\n",
       " (4314,),\n",
       " (8861,),\n",
       " (50277,),\n",
       " (57313,),\n",
       " (31506,)]"
      ]
     },
     "execution_count": 12,
     "metadata": {},
     "output_type": "execute_result"
    }
   ],
   "source": [
    "dd[:10]"
   ]
  },
  {
   "cell_type": "code",
   "execution_count": 13,
   "metadata": {},
   "outputs": [],
   "source": [
    "pt_query = \"SELECT ST_AsText(the_geom),id FROM ways_vertices_pgr WHERE id IN (SELECT node FROM DD)\"\n",
    "points = doQuery( myConnection, pt_query)"
   ]
  },
  {
   "cell_type": "code",
   "execution_count": 14,
   "metadata": {},
   "outputs": [
    {
     "data": {
      "text/plain": [
       "[('POINT(80.1298969 12.9270667)', 179),\n",
       " ('POINT(80.1301152 12.9286012)', 222),\n",
       " ('POINT(80.2050864 13.0161323)', 256),\n",
       " ('POINT(80.2114242 13.0577018)', 434)]"
      ]
     },
     "execution_count": 14,
     "metadata": {},
     "output_type": "execute_result"
    }
   ],
   "source": [
    "points[:4]"
   ]
  },
  {
   "cell_type": "code",
   "execution_count": 15,
   "metadata": {},
   "outputs": [],
   "source": [
    "import pandas as pd\n",
    "path = pd.DataFrame(dd)\n",
    "point = pd.DataFrame(points)"
   ]
  },
  {
   "cell_type": "code",
   "execution_count": 16,
   "metadata": {},
   "outputs": [
    {
     "data": {
      "text/html": [
       "<div>\n",
       "<style scoped>\n",
       "    .dataframe tbody tr th:only-of-type {\n",
       "        vertical-align: middle;\n",
       "    }\n",
       "\n",
       "    .dataframe tbody tr th {\n",
       "        vertical-align: top;\n",
       "    }\n",
       "\n",
       "    .dataframe thead th {\n",
       "        text-align: right;\n",
       "    }\n",
       "</style>\n",
       "<table border=\"1\" class=\"dataframe\">\n",
       "  <thead>\n",
       "    <tr style=\"text-align: right;\">\n",
       "      <th></th>\n",
       "      <th>0</th>\n",
       "      <th>1</th>\n",
       "    </tr>\n",
       "  </thead>\n",
       "  <tbody>\n",
       "    <tr>\n",
       "      <th>0</th>\n",
       "      <td>POINT(80.1298969 12.9270667)</td>\n",
       "      <td>179</td>\n",
       "    </tr>\n",
       "    <tr>\n",
       "      <th>1</th>\n",
       "      <td>POINT(80.1301152 12.9286012)</td>\n",
       "      <td>222</td>\n",
       "    </tr>\n",
       "    <tr>\n",
       "      <th>2</th>\n",
       "      <td>POINT(80.2050864 13.0161323)</td>\n",
       "      <td>256</td>\n",
       "    </tr>\n",
       "    <tr>\n",
       "      <th>3</th>\n",
       "      <td>POINT(80.2114242 13.0577018)</td>\n",
       "      <td>434</td>\n",
       "    </tr>\n",
       "    <tr>\n",
       "      <th>4</th>\n",
       "      <td>POINT(80.2006035 13.0915645)</td>\n",
       "      <td>565</td>\n",
       "    </tr>\n",
       "  </tbody>\n",
       "</table>\n",
       "</div>"
      ],
      "text/plain": [
       "                              0    1\n",
       "0  POINT(80.1298969 12.9270667)  179\n",
       "1  POINT(80.1301152 12.9286012)  222\n",
       "2  POINT(80.2050864 13.0161323)  256\n",
       "3  POINT(80.2114242 13.0577018)  434\n",
       "4  POINT(80.2006035 13.0915645)  565"
      ]
     },
     "execution_count": 16,
     "metadata": {},
     "output_type": "execute_result"
    }
   ],
   "source": [
    "point.head()"
   ]
  },
  {
   "cell_type": "code",
   "execution_count": 17,
   "metadata": {},
   "outputs": [],
   "source": [
    "point.columns = ['geom', 'node']\n",
    "path.columns = ['node']"
   ]
  },
  {
   "cell_type": "code",
   "execution_count": 18,
   "metadata": {},
   "outputs": [],
   "source": [
    "points = list(pd.merge(path,point, how='left', on='node')['geom'])"
   ]
  },
  {
   "cell_type": "code",
   "execution_count": 19,
   "metadata": {},
   "outputs": [],
   "source": [
    "location = []\n",
    "for i in range(len(points)):\n",
    "    temp = list(map(float,points[i].split('(')[1].split(')')[0].split(' ')))\n",
    "    location.append(temp[::-1])"
   ]
  },
  {
   "cell_type": "code",
   "execution_count": 20,
   "metadata": {},
   "outputs": [
    {
     "data": {
      "text/plain": [
       "[[13.1090389, 80.2049354],\n",
       " [13.1088743, 80.2049774],\n",
       " [13.1076363, 80.2048111],\n",
       " [13.1049064, 80.2041766],\n",
       " [13.104864, 80.2043249],\n",
       " [13.1045994, 80.2043187],\n",
       " [13.1038188, 80.2043294],\n",
       " [13.1036529, 80.2030155],\n",
       " [13.1036318, 80.202886],\n",
       " [13.1035379, 80.2021067]]"
      ]
     },
     "execution_count": 20,
     "metadata": {},
     "output_type": "execute_result"
    }
   ],
   "source": [
    "location[:10]"
   ]
  },
  {
   "cell_type": "code",
   "execution_count": 24,
   "metadata": {},
   "outputs": [],
   "source": [
    "center = location[int(len(location)/2)]"
   ]
  },
  {
   "cell_type": "code",
   "execution_count": 26,
   "metadata": {},
   "outputs": [],
   "source": [
    "so = location[0]\n",
    "target = location[-1]"
   ]
  },
  {
   "cell_type": "code",
   "execution_count": 27,
   "metadata": {},
   "outputs": [
    {
     "data": {
      "application/vnd.jupyter.widget-view+json": {
       "model_id": "1cb71bc742974a229ef8354d9d554a24",
       "version_major": 2,
       "version_minor": 0
      },
      "text/plain": [
       "Map(basemap={'url': 'https://{s}.tile.openstreetmap.org/{z}/{x}/{y}.png', 'max_zoom': 19, 'attribution': 'Map …"
      ]
     },
     "metadata": {},
     "output_type": "display_data"
    }
   ],
   "source": [
    "from ipyleaflet import Map, Polyline, Marker\n",
    "\n",
    "line = Polyline(\n",
    "    locations = location,\n",
    "    color = \"green\" ,\n",
    "    )\n",
    "m = Map(center = center, zoom =12)\n",
    "marker = Marker(location=target, draggable=False, title='Dwarka')\n",
    "m.add_layer(marker);\n",
    "marker = Marker(location= so, draggable=False, title='Sarojini Market')\n",
    "m.add_layer(marker);\n",
    "m.add_layer(line)\n",
    "m\n"
   ]
  },
  {
   "cell_type": "markdown",
   "metadata": {},
   "source": [
    "### STATIC IMAGE"
   ]
  },
  {
   "cell_type": "markdown",
   "metadata": {},
   "source": [
    "![alt text](https://i.ibb.co/2dGQkYx/Screen-Shot-2019-01-18-at-4-15-56-PM.png)\n"
   ]
  },
  {
   "cell_type": "code",
   "execution_count": null,
   "metadata": {},
   "outputs": [],
   "source": []
  },
  {
   "cell_type": "code",
   "execution_count": null,
   "metadata": {},
   "outputs": [],
   "source": []
  }
 ],
 "metadata": {
  "kernelspec": {
   "display_name": "Python 3",
   "language": "python",
   "name": "python3"
  },
  "language_info": {
   "codemirror_mode": {
    "name": "ipython",
    "version": 3
   },
   "file_extension": ".py",
   "mimetype": "text/x-python",
   "name": "python",
   "nbconvert_exporter": "python",
   "pygments_lexer": "ipython3",
   "version": "3.7.1"
  }
 },
 "nbformat": 4,
 "nbformat_minor": 2
}
