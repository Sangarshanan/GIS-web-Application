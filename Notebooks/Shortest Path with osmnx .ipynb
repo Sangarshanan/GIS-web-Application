{
 "cells": [
  {
   "cell_type": "code",
   "execution_count": 1,
   "metadata": {},
   "outputs": [],
   "source": [
    "import osmium as osm\n",
    "import pandas as pd\n",
    "\n",
    "class OSMHandler(osm.SimpleHandler):\n",
    "    def __init__(self):\n",
    "        osm.SimpleHandler.__init__(self)\n",
    "        self.osm_data = []\n",
    "\n",
    "    def tag_inventory(self, elem, elem_type):\n",
    "        for tag in elem.tags:\n",
    "            self.osm_data.append([elem_type, \n",
    "                                   elem.id, \n",
    "                                   elem.version,\n",
    "                                   elem.visible,\n",
    "                                   pd.Timestamp(elem.timestamp),\n",
    "                                   elem.uid,\n",
    "                                   elem.user,\n",
    "                                   elem.changeset,\n",
    "                                   len(elem.tags),\n",
    "                                   tag.k, \n",
    "                                   tag.v])\n",
    "\n",
    "    def node(self, n):\n",
    "        self.tag_inventory(n, \"node\")\n",
    "\n",
    "    def way(self, w):\n",
    "        self.tag_inventory(w, \"way\")\n",
    "\n",
    "    def relation(self, r):\n",
    "        self.tag_inventory(r, \"relation\")\n"
   ]
  },
  {
   "cell_type": "code",
   "execution_count": 2,
   "metadata": {},
   "outputs": [],
   "source": [
    "osmhandler = OSMHandler()\n",
    "# scan the input file and fills the handler list accordingly\n",
    "osmhandler.apply_file(\"test1.osm\")\n",
    "\n",
    "# transform the list into a pandas DataFrame\n",
    "data_colnames = ['type', 'id', 'version', 'visible', 'ts', 'uid',\n",
    "                 'user', 'chgset', 'ntags', 'tagkey', 'tagvalue']\n",
    "df_osm = pd.DataFrame(osmhandler.osm_data, columns=data_colnames)"
   ]
  },
  {
   "cell_type": "code",
   "execution_count": 3,
   "metadata": {},
   "outputs": [
    {
     "data": {
      "text/html": [
       "<div>\n",
       "<style scoped>\n",
       "    .dataframe tbody tr th:only-of-type {\n",
       "        vertical-align: middle;\n",
       "    }\n",
       "\n",
       "    .dataframe tbody tr th {\n",
       "        vertical-align: top;\n",
       "    }\n",
       "\n",
       "    .dataframe thead th {\n",
       "        text-align: right;\n",
       "    }\n",
       "</style>\n",
       "<table border=\"1\" class=\"dataframe\">\n",
       "  <thead>\n",
       "    <tr style=\"text-align: right;\">\n",
       "      <th></th>\n",
       "      <th>type</th>\n",
       "      <th>id</th>\n",
       "      <th>version</th>\n",
       "      <th>visible</th>\n",
       "      <th>ts</th>\n",
       "      <th>uid</th>\n",
       "      <th>user</th>\n",
       "      <th>chgset</th>\n",
       "      <th>ntags</th>\n",
       "      <th>tagkey</th>\n",
       "      <th>tagvalue</th>\n",
       "    </tr>\n",
       "  </thead>\n",
       "  <tbody>\n",
       "    <tr>\n",
       "      <th>0</th>\n",
       "      <td>node</td>\n",
       "      <td>245640568</td>\n",
       "      <td>1</td>\n",
       "      <td>True</td>\n",
       "      <td>1970-01-01 00:00:00+00:00</td>\n",
       "      <td>0</td>\n",
       "      <td></td>\n",
       "      <td>0</td>\n",
       "      <td>2</td>\n",
       "      <td>source</td>\n",
       "      <td>AND</td>\n",
       "    </tr>\n",
       "    <tr>\n",
       "      <th>1</th>\n",
       "      <td>node</td>\n",
       "      <td>245640568</td>\n",
       "      <td>1</td>\n",
       "      <td>True</td>\n",
       "      <td>1970-01-01 00:00:00+00:00</td>\n",
       "      <td>0</td>\n",
       "      <td></td>\n",
       "      <td>0</td>\n",
       "      <td>2</td>\n",
       "      <td>highway</td>\n",
       "      <td>crossing</td>\n",
       "    </tr>\n",
       "    <tr>\n",
       "      <th>2</th>\n",
       "      <td>node</td>\n",
       "      <td>245640573</td>\n",
       "      <td>1</td>\n",
       "      <td>True</td>\n",
       "      <td>1970-01-01 00:00:00+00:00</td>\n",
       "      <td>0</td>\n",
       "      <td></td>\n",
       "      <td>0</td>\n",
       "      <td>1</td>\n",
       "      <td>source</td>\n",
       "      <td>AND</td>\n",
       "    </tr>\n",
       "    <tr>\n",
       "      <th>3</th>\n",
       "      <td>node</td>\n",
       "      <td>245640576</td>\n",
       "      <td>1</td>\n",
       "      <td>True</td>\n",
       "      <td>1970-01-01 00:00:00+00:00</td>\n",
       "      <td>0</td>\n",
       "      <td></td>\n",
       "      <td>0</td>\n",
       "      <td>1</td>\n",
       "      <td>source</td>\n",
       "      <td>AND</td>\n",
       "    </tr>\n",
       "    <tr>\n",
       "      <th>4</th>\n",
       "      <td>node</td>\n",
       "      <td>245640607</td>\n",
       "      <td>1</td>\n",
       "      <td>True</td>\n",
       "      <td>1970-01-01 00:00:00+00:00</td>\n",
       "      <td>0</td>\n",
       "      <td></td>\n",
       "      <td>0</td>\n",
       "      <td>4</td>\n",
       "      <td>name</td>\n",
       "      <td>Ambarpet</td>\n",
       "    </tr>\n",
       "  </tbody>\n",
       "</table>\n",
       "</div>"
      ],
      "text/plain": [
       "   type         id  version  visible                        ts  uid user  \\\n",
       "0  node  245640568        1     True 1970-01-01 00:00:00+00:00    0        \n",
       "1  node  245640568        1     True 1970-01-01 00:00:00+00:00    0        \n",
       "2  node  245640573        1     True 1970-01-01 00:00:00+00:00    0        \n",
       "3  node  245640576        1     True 1970-01-01 00:00:00+00:00    0        \n",
       "4  node  245640607        1     True 1970-01-01 00:00:00+00:00    0        \n",
       "\n",
       "   chgset  ntags   tagkey  tagvalue  \n",
       "0       0      2   source       AND  \n",
       "1       0      2  highway  crossing  \n",
       "2       0      1   source       AND  \n",
       "3       0      1   source       AND  \n",
       "4       0      4     name  Ambarpet  "
      ]
     },
     "execution_count": 3,
     "metadata": {},
     "output_type": "execute_result"
    }
   ],
   "source": [
    "df_osm.head()"
   ]
  },
  {
   "cell_type": "code",
   "execution_count": 4,
   "metadata": {},
   "outputs": [
    {
     "data": {
      "text/plain": [
       "pandas.core.frame.DataFrame"
      ]
     },
     "execution_count": 4,
     "metadata": {},
     "output_type": "execute_result"
    }
   ],
   "source": [
    "type(df_osm)"
   ]
  },
  {
   "cell_type": "code",
   "execution_count": 5,
   "metadata": {},
   "outputs": [
    {
     "data": {
      "text/plain": [
       "array(['node', 'way', 'relation'], dtype=object)"
      ]
     },
     "execution_count": 5,
     "metadata": {},
     "output_type": "execute_result"
    }
   ],
   "source": [
    "df_osm['type'].unique()"
   ]
  },
  {
   "cell_type": "code",
   "execution_count": 6,
   "metadata": {},
   "outputs": [
    {
     "data": {
      "text/plain": [
       "Index(['type', 'id', 'version', 'visible', 'ts', 'uid', 'user', 'chgset',\n",
       "       'ntags', 'tagkey', 'tagvalue'],\n",
       "      dtype='object')"
      ]
     },
     "execution_count": 6,
     "metadata": {},
     "output_type": "execute_result"
    }
   ],
   "source": [
    "df_osm.columns"
   ]
  },
  {
   "cell_type": "code",
   "execution_count": 7,
   "metadata": {},
   "outputs": [],
   "source": [
    "import osmnx as ox\n",
    "import networkx as nx\n",
    "import geopandas as gpd\n",
    "import matplotlib.pyplot as plt\n",
    "import pandas as pd"
   ]
  },
  {
   "cell_type": "markdown",
   "metadata": {},
   "source": [
    "#### Also use ####\n",
    "\n",
    "place_name = \"Bangalore, Karnataka, India\""
   ]
  },
  {
   "cell_type": "code",
   "execution_count": 8,
   "metadata": {},
   "outputs": [],
   "source": [
    "place_name = \"Kamppi, Helsinki, Finland\"\n",
    "graph = ox.graph_from_place(place_name, network_type='drive')"
   ]
  },
  {
   "cell_type": "code",
   "execution_count": 9,
   "metadata": {},
   "outputs": [
    {
     "data": {
      "text/plain": [
       "networkx.classes.multidigraph.MultiDiGraph"
      ]
     },
     "execution_count": 9,
     "metadata": {},
     "output_type": "execute_result"
    }
   ],
   "source": [
    "type(graph)"
   ]
  },
  {
   "cell_type": "markdown",
   "metadata": {},
   "source": [
    "Okey so now we have retrieved only such streets where it is possible to drive with a car. Let’s confirm this by taking a look at the attributes of the street network. Easiest way to do this is to convert the graph (nodes and edges) into GeoDataFrames.\n",
    "\n"
   ]
  },
  {
   "cell_type": "code",
   "execution_count": 10,
   "metadata": {},
   "outputs": [
    {
     "data": {
      "image/png": "[encoded data removed]",
      "text/plain": [
       "<Figure size 935.12x432 with 1 Axes>"
      ]
     },
     "metadata": {},
     "output_type": "display_data"
    }
   ],
   "source": [
    "fig, ax = ox.plot_graph(graph)"
   ]
  },
  {
   "cell_type": "code",
   "execution_count": 11,
   "metadata": {},
   "outputs": [],
   "source": [
    "edges = ox.graph_to_gdfs(graph, nodes=False, edges=True)"
   ]
  },
  {
   "cell_type": "code",
   "execution_count": 12,
   "metadata": {},
   "outputs": [
    {
     "data": {
      "text/plain": [
       "geopandas.geodataframe.GeoDataFrame"
      ]
     },
     "execution_count": 12,
     "metadata": {},
     "output_type": "execute_result"
    }
   ],
   "source": [
    "type(edges)"
   ]
  },
  {
   "cell_type": "code",
   "execution_count": 13,
   "metadata": {},
   "outputs": [
    {
     "data": {
      "text/plain": [
       "Index(['access', 'bridge', 'geometry', 'highway', 'junction', 'key', 'lanes',\n",
       "       'length', 'maxspeed', 'name', 'oneway', 'osmid', 'u', 'v'],\n",
       "      dtype='object')"
      ]
     },
     "execution_count": 13,
     "metadata": {},
     "output_type": "execute_result"
    }
   ],
   "source": [
    "edges.columns"
   ]
  },
  {
   "cell_type": "code",
   "execution_count": 14,
   "metadata": {},
   "outputs": [
    {
     "data": {
      "text/plain": [
       "residential      112\n",
       "tertiary          78\n",
       "primary           26\n",
       "secondary         17\n",
       "unclassified      11\n",
       "living_street      4\n",
       "primary_link       1\n",
       "Name: highway, dtype: int64"
      ]
     },
     "execution_count": 14,
     "metadata": {},
     "output_type": "execute_result"
    }
   ],
   "source": [
    "edges['highway'].value_counts()"
   ]
  },
  {
   "cell_type": "markdown",
   "metadata": {},
   "source": [
    "Okey, now we can confirm that as a result our street network indeed only contains such streets where it is allowed to drive with a car as there are no e.g. cycleways of footways included in the data. We can also see that the CRS of the GeoDataFrame seems to be WGS84 (i.e. epsg: 4326).\n",
    "\n",
    "\n",
    "\n",
    "Let’s continue and find the shortest path between two points based on the distance. As the data is in WGS84 format, we might first want to reproject our data into metric system so that our map looks better. Luckily there is a handy function in osmnx called project_graph() to project the graph data in UTM format.\n",
    "\n"
   ]
  },
  {
   "cell_type": "code",
   "execution_count": 15,
   "metadata": {},
   "outputs": [
    {
     "data": {
      "image/png": "[encoded data removed]",
      "text/plain": [
       "<Figure size 473.235x432 with 1 Axes>"
      ]
     },
     "metadata": {},
     "output_type": "display_data"
    },
    {
     "data": {
      "text/plain": [
       "<Figure size 432x288 with 0 Axes>"
      ]
     },
     "metadata": {},
     "output_type": "display_data"
    }
   ],
   "source": [
    "graph_proj = ox.project_graph(graph)\n",
    "fig, ax = ox.plot_graph(graph_proj)\n",
    "plt.tight_layout()"
   ]
  },
  {
   "cell_type": "code",
   "execution_count": 16,
   "metadata": {},
   "outputs": [],
   "source": [
    "nodes_proj, edges_proj = ox.graph_to_gdfs(graph_proj, nodes=True, edges=True)"
   ]
  },
  {
   "cell_type": "code",
   "execution_count": 17,
   "metadata": {},
   "outputs": [
    {
     "data": {
      "text/plain": [
       "(249, 14)"
      ]
     },
     "execution_count": 17,
     "metadata": {},
     "output_type": "execute_result"
    }
   ],
   "source": [
    "edges_proj.shape"
   ]
  },
  {
   "cell_type": "code",
   "execution_count": 18,
   "metadata": {},
   "outputs": [
    {
     "data": {
      "text/html": [
       "<div>\n",
       "<style scoped>\n",
       "    .dataframe tbody tr th:only-of-type {\n",
       "        vertical-align: middle;\n",
       "    }\n",
       "\n",
       "    .dataframe tbody tr th {\n",
       "        vertical-align: top;\n",
       "    }\n",
       "\n",
       "    .dataframe thead th {\n",
       "        text-align: right;\n",
       "    }\n",
       "</style>\n",
       "<table border=\"1\" class=\"dataframe\">\n",
       "  <thead>\n",
       "    <tr style=\"text-align: right;\">\n",
       "      <th></th>\n",
       "      <th>highway</th>\n",
       "      <th>lat</th>\n",
       "      <th>lon</th>\n",
       "      <th>osmid</th>\n",
       "      <th>x</th>\n",
       "      <th>y</th>\n",
       "      <th>geometry</th>\n",
       "    </tr>\n",
       "  </thead>\n",
       "  <tbody>\n",
       "    <tr>\n",
       "      <th>25216594</th>\n",
       "      <td>NaN</td>\n",
       "      <td>60.1648</td>\n",
       "      <td>24.9211</td>\n",
       "      <td>25216594</td>\n",
       "      <td>384631</td>\n",
       "      <td>6.67158e+06</td>\n",
       "      <td>POINT (384631.3223718022 6671580.070624193)</td>\n",
       "    </tr>\n",
       "    <tr>\n",
       "      <th>25238874</th>\n",
       "      <td>NaN</td>\n",
       "      <td>60.1637</td>\n",
       "      <td>24.921</td>\n",
       "      <td>25238874</td>\n",
       "      <td>384626</td>\n",
       "      <td>6.67145e+06</td>\n",
       "      <td>POINT (384625.7872206579 6671454.380189306)</td>\n",
       "    </tr>\n",
       "    <tr>\n",
       "      <th>25238944</th>\n",
       "      <td>NaN</td>\n",
       "      <td>60.1646</td>\n",
       "      <td>24.9213</td>\n",
       "      <td>25238944</td>\n",
       "      <td>384643</td>\n",
       "      <td>6.67156e+06</td>\n",
       "      <td>POINT (384643.4732736854 6671561.533814663)</td>\n",
       "    </tr>\n",
       "    <tr>\n",
       "      <th>25291537</th>\n",
       "      <td>NaN</td>\n",
       "      <td>60.1643</td>\n",
       "      <td>24.937</td>\n",
       "      <td>25291537</td>\n",
       "      <td>385516</td>\n",
       "      <td>6.6715e+06</td>\n",
       "      <td>POINT (385515.6177361083 6671500.065126655)</td>\n",
       "    </tr>\n",
       "    <tr>\n",
       "      <th>25291564</th>\n",
       "      <td>NaN</td>\n",
       "      <td>60.1659</td>\n",
       "      <td>24.9417</td>\n",
       "      <td>25291564</td>\n",
       "      <td>385779</td>\n",
       "      <td>6.67167e+06</td>\n",
       "      <td>POINT (385779.465694473 6671672.812754457)</td>\n",
       "    </tr>\n",
       "  </tbody>\n",
       "</table>\n",
       "</div>"
      ],
      "text/plain": [
       "         highway      lat      lon     osmid       x            y  \\\n",
       "25216594     NaN  60.1648  24.9211  25216594  384631  6.67158e+06   \n",
       "25238874     NaN  60.1637   24.921  25238874  384626  6.67145e+06   \n",
       "25238944     NaN  60.1646  24.9213  25238944  384643  6.67156e+06   \n",
       "25291537     NaN  60.1643   24.937  25291537  385516   6.6715e+06   \n",
       "25291564     NaN  60.1659  24.9417  25291564  385779  6.67167e+06   \n",
       "\n",
       "                                             geometry  \n",
       "25216594  POINT (384631.3223718022 6671580.070624193)  \n",
       "25238874  POINT (384625.7872206579 6671454.380189306)  \n",
       "25238944  POINT (384643.4732736854 6671561.533814663)  \n",
       "25291537  POINT (385515.6177361083 6671500.065126655)  \n",
       "25291564   POINT (385779.465694473 6671672.812754457)  "
      ]
     },
     "execution_count": 18,
     "metadata": {},
     "output_type": "execute_result"
    }
   ],
   "source": [
    "nodes_proj.head()"
   ]
  },
  {
   "cell_type": "code",
   "execution_count": 19,
   "metadata": {},
   "outputs": [
    {
     "data": {
      "text/html": [
       "<div>\n",
       "<style scoped>\n",
       "    .dataframe tbody tr th:only-of-type {\n",
       "        vertical-align: middle;\n",
       "    }\n",
       "\n",
       "    .dataframe tbody tr th {\n",
       "        vertical-align: top;\n",
       "    }\n",
       "\n",
       "    .dataframe thead th {\n",
       "        text-align: right;\n",
       "    }\n",
       "</style>\n",
       "<table border=\"1\" class=\"dataframe\">\n",
       "  <thead>\n",
       "    <tr style=\"text-align: right;\">\n",
       "      <th></th>\n",
       "      <th>access</th>\n",
       "      <th>bridge</th>\n",
       "      <th>geometry</th>\n",
       "      <th>highway</th>\n",
       "      <th>junction</th>\n",
       "      <th>key</th>\n",
       "      <th>lanes</th>\n",
       "      <th>length</th>\n",
       "      <th>maxspeed</th>\n",
       "      <th>name</th>\n",
       "      <th>oneway</th>\n",
       "      <th>osmid</th>\n",
       "      <th>u</th>\n",
       "      <th>v</th>\n",
       "    </tr>\n",
       "  </thead>\n",
       "  <tbody>\n",
       "    <tr>\n",
       "      <th>0</th>\n",
       "      <td>NaN</td>\n",
       "      <td>NaN</td>\n",
       "      <td>LINESTRING (384631.3223718022 6671580.07062419...</td>\n",
       "      <td>primary</td>\n",
       "      <td>NaN</td>\n",
       "      <td>0</td>\n",
       "      <td>2</td>\n",
       "      <td>40.885</td>\n",
       "      <td>40</td>\n",
       "      <td>Mechelininkatu</td>\n",
       "      <td>True</td>\n",
       "      <td>23856784</td>\n",
       "      <td>25216594</td>\n",
       "      <td>1372425714</td>\n",
       "    </tr>\n",
       "    <tr>\n",
       "      <th>1</th>\n",
       "      <td>NaN</td>\n",
       "      <td>NaN</td>\n",
       "      <td>LINESTRING (384625.7872206579 6671454.38018930...</td>\n",
       "      <td>primary</td>\n",
       "      <td>NaN</td>\n",
       "      <td>0</td>\n",
       "      <td>3</td>\n",
       "      <td>16.601</td>\n",
       "      <td>40</td>\n",
       "      <td>Mechelininkatu</td>\n",
       "      <td>True</td>\n",
       "      <td>[29977177, 30470347]</td>\n",
       "      <td>25238874</td>\n",
       "      <td>1372425713</td>\n",
       "    </tr>\n",
       "    <tr>\n",
       "      <th>2</th>\n",
       "      <td>NaN</td>\n",
       "      <td>NaN</td>\n",
       "      <td>LINESTRING (384643.4732736854 6671561.53381466...</td>\n",
       "      <td>primary</td>\n",
       "      <td>NaN</td>\n",
       "      <td>0</td>\n",
       "      <td>2</td>\n",
       "      <td>25.167</td>\n",
       "      <td>40</td>\n",
       "      <td>NaN</td>\n",
       "      <td>True</td>\n",
       "      <td>[372440330, 8135861]</td>\n",
       "      <td>25238944</td>\n",
       "      <td>25216594</td>\n",
       "    </tr>\n",
       "    <tr>\n",
       "      <th>3</th>\n",
       "      <td>NaN</td>\n",
       "      <td>NaN</td>\n",
       "      <td>LINESTRING (384643.4732736854 6671561.53381466...</td>\n",
       "      <td>primary</td>\n",
       "      <td>NaN</td>\n",
       "      <td>0</td>\n",
       "      <td>2</td>\n",
       "      <td>242.477</td>\n",
       "      <td>40</td>\n",
       "      <td>Mechelininkatu</td>\n",
       "      <td>True</td>\n",
       "      <td>[25514547, 30288797, 30288799]</td>\n",
       "      <td>25238944</td>\n",
       "      <td>319896278</td>\n",
       "    </tr>\n",
       "    <tr>\n",
       "      <th>4</th>\n",
       "      <td>NaN</td>\n",
       "      <td>NaN</td>\n",
       "      <td>LINESTRING (385515.6177361083 6671500.06512665...</td>\n",
       "      <td>tertiary</td>\n",
       "      <td>NaN</td>\n",
       "      <td>0</td>\n",
       "      <td>NaN</td>\n",
       "      <td>139.183</td>\n",
       "      <td>[40, 30]</td>\n",
       "      <td>Fredrikinkatu</td>\n",
       "      <td>True</td>\n",
       "      <td>[30568275, 36729015, 316590744, 316590745, 316...</td>\n",
       "      <td>25291537</td>\n",
       "      <td>25291591</td>\n",
       "    </tr>\n",
       "  </tbody>\n",
       "</table>\n",
       "</div>"
      ],
      "text/plain": [
       "  access bridge                                           geometry   highway  \\\n",
       "0    NaN    NaN  LINESTRING (384631.3223718022 6671580.07062419...   primary   \n",
       "1    NaN    NaN  LINESTRING (384625.7872206579 6671454.38018930...   primary   \n",
       "2    NaN    NaN  LINESTRING (384643.4732736854 6671561.53381466...   primary   \n",
       "3    NaN    NaN  LINESTRING (384643.4732736854 6671561.53381466...   primary   \n",
       "4    NaN    NaN  LINESTRING (385515.6177361083 6671500.06512665...  tertiary   \n",
       "\n",
       "  junction  key lanes   length  maxspeed            name  oneway  \\\n",
       "0      NaN    0     2   40.885        40  Mechelininkatu    True   \n",
       "1      NaN    0     3   16.601        40  Mechelininkatu    True   \n",
       "2      NaN    0     2   25.167        40             NaN    True   \n",
       "3      NaN    0     2  242.477        40  Mechelininkatu    True   \n",
       "4      NaN    0   NaN  139.183  [40, 30]   Fredrikinkatu    True   \n",
       "\n",
       "                                               osmid         u           v  \n",
       "0                                           23856784  25216594  1372425714  \n",
       "1                               [29977177, 30470347]  25238874  1372425713  \n",
       "2                               [372440330, 8135861]  25238944    25216594  \n",
       "3                     [25514547, 30288797, 30288799]  25238944   319896278  \n",
       "4  [30568275, 36729015, 316590744, 316590745, 316...  25291537    25291591  "
      ]
     },
     "execution_count": 19,
     "metadata": {},
     "output_type": "execute_result"
    }
   ],
   "source": [
    "edges_proj.head()"
   ]
  },
  {
   "cell_type": "code",
   "execution_count": null,
   "metadata": {},
   "outputs": [],
   "source": []
  },
  {
   "cell_type": "code",
   "execution_count": 20,
   "metadata": {},
   "outputs": [],
   "source": [
    "from shapely.geometry import box"
   ]
  },
  {
   "cell_type": "code",
   "execution_count": 21,
   "metadata": {},
   "outputs": [
    {
     "name": "stdout",
     "output_type": "stream",
     "text": [
      "POLYGON ((385855.0300992894 6671142.734328128, 385855.0300992894 6672267.057001855, 384623.3898322977 6672267.057001855, 384623.3898322977 6671142.734328128, 385855.0300992894 6671142.734328128))\n"
     ]
    }
   ],
   "source": [
    "bbox = box(*edges_proj.unary_union.bounds)\n",
    "print(bbox)"
   ]
  },
  {
   "cell_type": "code",
   "execution_count": 22,
   "metadata": {},
   "outputs": [
    {
     "name": "stdout",
     "output_type": "stream",
     "text": [
      "POINT (385239.2099657935 6671704.895664991)\n"
     ]
    }
   ],
   "source": [
    "orig_point = bbox.centroid\n",
    "print(orig_point)"
   ]
  },
  {
   "cell_type": "code",
   "execution_count": 23,
   "metadata": {},
   "outputs": [
    {
     "name": "stdout",
     "output_type": "stream",
     "text": [
      "                   highway      lat     lon      osmid              x  \\\n",
      "317703609  traffic_signals  60.1664  24.943  317703609  385855.030099   \n",
      "\n",
      "                     y                                     geometry  \n",
      "317703609  6.67172e+06  POINT (385855.0300992894 6671721.810323974)  \n"
     ]
    }
   ],
   "source": [
    "nodes_proj['x'] = nodes_proj.x.astype(float)\n",
    "\n",
    "maxx = nodes_proj['x'].max()\n",
    "\n",
    "target_loc = nodes_proj.loc[nodes_proj['x']==maxx, :]\n",
    "\n",
    "print(target_loc)"
   ]
  },
  {
   "cell_type": "code",
   "execution_count": 24,
   "metadata": {},
   "outputs": [
    {
     "name": "stdout",
     "output_type": "stream",
     "text": [
      "POINT (385855.0300992894 6671721.810323974)\n"
     ]
    }
   ],
   "source": [
    "target_point = target_loc.geometry.values[0]\n",
    "\n",
    "print(target_point)"
   ]
  },
  {
   "cell_type": "code",
   "execution_count": 36,
   "metadata": {},
   "outputs": [
    {
     "data": {
      "text/html": [
       "<div>\n",
       "<style scoped>\n",
       "    .dataframe tbody tr th:only-of-type {\n",
       "        vertical-align: middle;\n",
       "    }\n",
       "\n",
       "    .dataframe tbody tr th {\n",
       "        vertical-align: top;\n",
       "    }\n",
       "\n",
       "    .dataframe thead th {\n",
       "        text-align: right;\n",
       "    }\n",
       "</style>\n",
       "<table border=\"1\" class=\"dataframe\">\n",
       "  <thead>\n",
       "    <tr style=\"text-align: right;\">\n",
       "      <th></th>\n",
       "      <th>highway</th>\n",
       "      <th>lat</th>\n",
       "      <th>lon</th>\n",
       "      <th>osmid</th>\n",
       "      <th>x</th>\n",
       "      <th>y</th>\n",
       "      <th>geometry</th>\n",
       "    </tr>\n",
       "  </thead>\n",
       "  <tbody>\n",
       "    <tr>\n",
       "      <th>317703609</th>\n",
       "      <td>traffic_signals</td>\n",
       "      <td>60.1664</td>\n",
       "      <td>24.943</td>\n",
       "      <td>317703609</td>\n",
       "      <td>385855.030099</td>\n",
       "      <td>6.67172e+06</td>\n",
       "      <td>POINT (385855.0300992894 6671721.810323974)</td>\n",
       "    </tr>\n",
       "  </tbody>\n",
       "</table>\n",
       "</div>"
      ],
      "text/plain": [
       "                   highway      lat     lon      osmid              x  \\\n",
       "317703609  traffic_signals  60.1664  24.943  317703609  385855.030099   \n",
       "\n",
       "                     y                                     geometry  \n",
       "317703609  6.67172e+06  POINT (385855.0300992894 6671721.810323974)  "
      ]
     },
     "execution_count": 36,
     "metadata": {},
     "output_type": "execute_result"
    }
   ],
   "source": [
    "target_loc"
   ]
  },
  {
   "cell_type": "code",
   "execution_count": 34,
   "metadata": {},
   "outputs": [
    {
     "data": {
      "text/plain": [
       "(6671721.810323974, 385855.03009928943)"
      ]
     },
     "execution_count": 34,
     "metadata": {},
     "output_type": "execute_result"
    }
   ],
   "source": [
    "target_xy"
   ]
  },
  {
   "cell_type": "code",
   "execution_count": 25,
   "metadata": {},
   "outputs": [
    {
     "name": "stdout",
     "output_type": "stream",
     "text": [
      "1372441189\n",
      "317703609\n"
     ]
    }
   ],
   "source": [
    "orig_xy = (orig_point.y, orig_point.x)\n",
    "\n",
    "target_xy = (target_point.y, target_point.x)\n",
    "\n",
    "orig_node = ox.get_nearest_node(graph_proj, orig_xy, method='euclidean')\n",
    "\n",
    "target_node = ox.get_nearest_node(graph_proj, target_xy, method='euclidean')\n",
    "\n",
    "o_closest = nodes_proj.loc[orig_node]\n",
    "\n",
    "t_closest = nodes_proj.loc[target_node]\n",
    "\n",
    "print(orig_node)\n",
    "\n",
    "print(target_node)"
   ]
  },
  {
   "cell_type": "code",
   "execution_count": 39,
   "metadata": {},
   "outputs": [
    {
     "data": {
      "text/plain": [
       "317703609"
      ]
     },
     "execution_count": 39,
     "metadata": {},
     "output_type": "execute_result"
    }
   ],
   "source": [
    "target_node"
   ]
  },
  {
   "cell_type": "code",
   "execution_count": 26,
   "metadata": {},
   "outputs": [],
   "source": [
    "od_nodes = gpd.GeoDataFrame([o_closest, t_closest], geometry='geometry', crs=nodes_proj.crs)\n",
    "route = nx.shortest_path(G=graph_proj, source=orig_node, target=target_node, weight='length')"
   ]
  },
  {
   "cell_type": "code",
   "execution_count": 27,
   "metadata": {},
   "outputs": [
    {
     "name": "stdout",
     "output_type": "stream",
     "text": [
      "[1372441189, 1372441183, 1372441170, 60170471, 1377211668, 1377211666, 25291565, 25291564, 317703609]\n"
     ]
    }
   ],
   "source": [
    "print(route)"
   ]
  },
  {
   "cell_type": "code",
   "execution_count": 28,
   "metadata": {},
   "outputs": [
    {
     "data": {
      "image/png": "[encoded data removed]",
      "text/plain": [
       "<Figure size 473.235x432 with 1 Axes>"
      ]
     },
     "metadata": {},
     "output_type": "display_data"
    },
    {
     "data": {
      "text/plain": [
       "<Figure size 432x288 with 0 Axes>"
      ]
     },
     "metadata": {},
     "output_type": "display_data"
    }
   ],
   "source": [
    "fig, ax = ox.plot_graph_route(graph_proj, route, origin_point=orig_xy, destination_point=target_xy)\n",
    "\n",
    "plt.tight_layout()\n"
   ]
  },
  {
   "cell_type": "markdown",
   "metadata": {},
   "source": [
    "Awesome! Now we have a the shortest path between our origin and target locations. Being able to analyze shortest paths between locations can be valuable information for many applications. Here, we only analyzed the shortest paths based on distance but quite often it is more useful to find the optimal routes between locations based on the travelled time. Here, for example we could calculate the time that it takes to cross each road segment by dividing the length of the road segment with the speed limit and calculate the optimal routes by taking into account the speed limits as well that might alter the result especially on longer trips than here."
   ]
  },
  {
   "cell_type": "code",
   "execution_count": null,
   "metadata": {},
   "outputs": [],
   "source": []
  },
  {
   "cell_type": "markdown",
   "metadata": {},
   "source": [
    "# Helsinki Finland shortest path"
   ]
  },
  {
   "cell_type": "code",
   "execution_count": null,
   "metadata": {},
   "outputs": [],
   "source": []
  },
  {
   "cell_type": "code",
   "execution_count": null,
   "metadata": {},
   "outputs": [],
   "source": []
  },
  {
   "cell_type": "code",
   "execution_count": null,
   "metadata": {},
   "outputs": [],
   "source": []
  }
 ],
 "metadata": {
  "kernelspec": {
   "display_name": "Python 3",
   "language": "python",
   "name": "python3"
  },
  "language_info": {
   "codemirror_mode": {
    "name": "ipython",
    "version": 3
   },
   "file_extension": ".py",
   "mimetype": "text/x-python",
   "name": "python",
   "nbconvert_exporter": "python",
   "pygments_lexer": "ipython3",
   "version": "3.7.1"
  }
 },
 "nbformat": 4,
 "nbformat_minor": 2
}
