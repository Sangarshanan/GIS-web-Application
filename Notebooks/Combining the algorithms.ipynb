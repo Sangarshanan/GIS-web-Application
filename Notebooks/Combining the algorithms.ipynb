{
 "cells": [
  {
   "cell_type": "markdown",
   "metadata": {},
   "source": [
    "## COMBINING KDTREES AND POLYGON APPROACH"
   ]
  },
  {
   "cell_type": "code",
   "execution_count": 1,
   "metadata": {},
   "outputs": [],
   "source": [
    "import geopandas as gpd\n",
    "from shapely.geometry import Point, Polygon\n",
    "import pandas as pd\n",
    "import numpy as np\n",
    "from scipy import spatial\n",
    "import pandas as pd"
   ]
  },
  {
   "cell_type": "code",
   "execution_count": 3,
   "metadata": {},
   "outputs": [],
   "source": [
    "blore = gpd.read_file('blore.geojson')\n",
    "chenn = gpd.read_file('chennai.geojson')\n",
    "mumba = gpd.read_file('mumbai.geojson')\n",
    "ahmed = gpd.read_file('ahmedabad.geojson')\n",
    "hyder = gpd.read_file('hyderabad.geojson')\n",
    "kolka = gpd.read_file('kolkatta.geojson')\n",
    "df1 = pd.read_csv('AllIndiaPostalCodes.csv')"
   ]
  },
  {
   "cell_type": "code",
   "execution_count": 5,
   "metadata": {},
   "outputs": [],
   "source": [
    "blore['centroid_column'] = blore.centroid\n",
    "b = blore.set_geometry('centroid_column')\n",
    "\n",
    "chenn['centroid_column'] = chenn.centroid\n",
    "c = chenn.set_geometry('centroid_column')\n",
    "\n",
    "mumba['centroid_column'] = mumba.centroid\n",
    "m = mumba.set_geometry('centroid_column')\n",
    "\n",
    "ahmed['centroid_column'] = ahmed.centroid\n",
    "a = ahmed.set_geometry('centroid_column')\n",
    "\n",
    "hyder['centroid_column'] = hyder.centroid\n",
    "h = hyder.set_geometry('centroid_column')\n",
    "\n",
    "kolka['centroid_column'] = kolka.centroid\n",
    "k = kolka.set_geometry('centroid_column')"
   ]
  },
  {
   "cell_type": "code",
   "execution_count": 6,
   "metadata": {},
   "outputs": [],
   "source": [
    "data1 = df1[['postalcode','placename','latitude','longitude ']]\n",
    "data = pd.concat([b,c,m,a,h,k], ignore_index=True,sort=False)"
   ]
  },
  {
   "cell_type": "code",
   "execution_count": 10,
   "metadata": {},
   "outputs": [],
   "source": [
    "latlongs = data1.iloc[:,2:]\n",
    "d =  np.array(latlongs)\n",
    "tree = spatial.KDTree(d)"
   ]
  },
  {
   "cell_type": "code",
   "execution_count": 11,
   "metadata": {},
   "outputs": [
    {
     "data": {
      "text/plain": [
       "411001"
      ]
     },
     "execution_count": 11,
     "metadata": {},
     "output_type": "execute_result"
    }
   ],
   "source": [
    "latlongs = np.array([18.480326,73.858055])\n",
    "result = tree.query(latlongs)\n",
    "int(data1.iloc[[result[1]]]['postalcode'])"
   ]
  },
  {
   "cell_type": "code",
   "execution_count": 18,
   "metadata": {},
   "outputs": [],
   "source": [
    "def getpincode(lat , long):\n",
    "    lat = float(lat)\n",
    "    long = float(long)\n",
    "    p = Point(long,lat)\n",
    "    for i in range(0,len(data)):\n",
    "        if p.within(data['geometry'][i]) is True:\n",
    "            pin = int(data['pin_code'][i])\n",
    "        else:\n",
    "            pin = 0\n",
    "    if pin !=0:\n",
    "        return pin\n",
    "    else:\n",
    "        latlongs = np.array([lat,long])\n",
    "        result = tree.query(latlongs)\n",
    "        pin = int(data1.iloc[[result[1]]]['postalcode'])       \n",
    "    return pin"
   ]
  },
  {
   "cell_type": "code",
   "execution_count": 20,
   "metadata": {},
   "outputs": [
    {
     "data": {
      "text/plain": [
       "411001"
      ]
     },
     "execution_count": 20,
     "metadata": {},
     "output_type": "execute_result"
    }
   ],
   "source": [
    "### OUTSIDE THE CITIES \n",
    "getpincode(18.480326,73.858055)"
   ]
  },
  {
   "cell_type": "code",
   "execution_count": 21,
   "metadata": {},
   "outputs": [
    {
     "data": {
      "text/plain": [
       "400016"
      ]
     },
     "execution_count": 21,
     "metadata": {},
     "output_type": "execute_result"
    }
   ],
   "source": [
    "### INSIDE THE CITIES\n",
    "getpincode(19.040010,72.841420)"
   ]
  }
 ],
 "metadata": {
  "kernelspec": {
   "display_name": "Python 3",
   "language": "python",
   "name": "python3"
  },
  "language_info": {
   "codemirror_mode": {
    "name": "ipython",
    "version": 3
   },
   "file_extension": ".py",
   "mimetype": "text/x-python",
   "name": "python",
   "nbconvert_exporter": "python",
   "pygments_lexer": "ipython3",
   "version": "3.7.1"
  }
 },
 "nbformat": 4,
 "nbformat_minor": 2
}
